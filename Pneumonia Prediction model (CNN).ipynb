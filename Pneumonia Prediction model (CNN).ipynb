{
 "cells": [
  {
   "cell_type": "markdown",
   "metadata": {},
   "source": [
    "Deep Learning CNN model to recognize X-Ray\n",
    "'''This script uses a database of images and creates CNN model on top of it to test\n",
    "   if the given image is recognized correctly or not'''\n",
    "   \n",
    "Data Source: Kaggle\n",
    "\n",
    "'''########################## IMAGE PRE-PROCESSING for TRAINING and TESTING data ##############################'''"
   ]
  },
  {
   "cell_type": "code",
   "execution_count": 1,
   "metadata": {},
   "outputs": [],
   "source": [
    "#Image path for Training and Testing\n",
    "Trainingimagepath='D:\\\\DS\\\\Python\\\\CNN assignment\\\\chest_xray\\\\train'\n",
    "Testingimagepath='D:\\\\DS\\\\Python\\\\CNN assignment\\\\chest_xray\\\\train'"
   ]
  },
  {
   "cell_type": "code",
   "execution_count": 2,
   "metadata": {},
   "outputs": [
    {
     "name": "stdout",
     "output_type": "stream",
     "text": [
      "Found 5216 images belonging to 2 classes.\n",
      "Found 5216 images belonging to 2 classes.\n"
     ]
    },
    {
     "data": {
      "text/plain": [
       "{'NORMAL': 0, 'PNEUMONIA': 1}"
      ]
     },
     "execution_count": 2,
     "metadata": {},
     "output_type": "execute_result"
    }
   ],
   "source": [
    "from keras.preprocessing.image import ImageDataGenerator\n",
    "# Defining pre-processing transformations on raw images of training data\n",
    "Train_datagen=ImageDataGenerator(rescale=1./255, zoom_range=0.1,\n",
    "                                 horizontal_flip=True,\n",
    "                                 shear_range=0.1\n",
    "                                )\n",
    "# Defining pre-processing transformations on raw images of testing data\n",
    "Test_datagen=ImageDataGenerator(rescale=1./255, zoom_range=0.1,\n",
    "                                horizontal_flip=True,\n",
    "                                 shear_range=0.1\n",
    "                                )\n",
    "# Generating the Training Data\n",
    "Training_set=Train_datagen.flow_from_directory(Trainingimagepath, target_size=(64,64),\n",
    "                                              batch_size=100, class_mode='categorical')\n",
    "# Generating the Testing Data\n",
    "Test_set=Train_datagen.flow_from_directory(Testingimagepath, target_size=(64,64),\n",
    "                                              batch_size=100, class_mode='categorical')\n",
    "# Printing class labels for each face\n",
    "Test_set.class_indices"
   ]
  },
  {
   "cell_type": "code",
   "execution_count": 3,
   "metadata": {},
   "outputs": [
    {
     "name": "stdout",
     "output_type": "stream",
     "text": [
      "Mapping X-ray and its Type: {0: 'NORMAL', 1: 'PNEUMONIA'}\n",
      "No of neurons 2\n"
     ]
    }
   ],
   "source": [
    "'''#################### Creating lookup table for all faces ##############################'''\n",
    "# class_indices have the numeric tag for each face\n",
    "\n",
    "Trainclasses=Training_set.class_indices\n",
    "# Storing the face and the numeric tag for future reference\n",
    "Resultmap1={}\n",
    "for facevalue, facename in zip(Trainclasses.values(), Trainclasses.keys()):\n",
    "    Resultmap1[facevalue]=facename\n",
    "# Saving the face map for future reference    \n",
    "import pickle\n",
    "with open('D:\\\\DS\\\\Python\\\\CNN assignment\\\\chest_xray\\\\Resultmap1.pkl','wb') as f:\n",
    "    pickle.dump(Resultmap1, f, pickle.HIGHEST_PROTOCOL)\n",
    "    \n",
    "print('Mapping X-ray and its Type:', Resultmap1)\n",
    "\n",
    "# The number of neurons for the output layer is equal to the number of faces\n",
    "OutputNeurons=len(Resultmap1)\n",
    "print('No of neurons', OutputNeurons)"
   ]
  },
  {
   "cell_type": "markdown",
   "metadata": {},
   "source": [
    "CNN model Creation"
   ]
  },
  {
   "cell_type": "code",
   "execution_count": 4,
   "metadata": {},
   "outputs": [],
   "source": [
    "'''######################## Create CNN deep learning model ####################################'''\n",
    "from keras.models import Sequential\n",
    "from keras.layers import Convolution2D, MaxPool2D, Flatten, Dense\n",
    "'''Initializing the Convolutional Neural Network'''\n",
    "classifier=Sequential()\n",
    "''' STEP--1 Convolution\n",
    "# Adding the first layer of CNN\n",
    "# we are using the format (64,64,3) because we are using TensorFlow backend\n",
    "# It means 3 matrix of size (64X64) pixels representing Red, Green and Blue components of pixels'''\n",
    "classifier.add(Convolution2D(32, kernel_size=(5,5), \n",
    "                    input_shape=(64,64,3), strides=(1,1), activation='relu'))\n",
    "'''# STEP--2 MAX Pooling'''\n",
    "classifier.add(MaxPool2D(pool_size=(2,2)))\n",
    "'''############## ADDITIONAL LAYER of CONVOLUTION for better accuracy #################'''\n",
    "classifier.add(Convolution2D(64, kernel_size=(5,5), \n",
    "                     strides=(1,1), activation='relu'))\n",
    "classifier.add(MaxPool2D(pool_size=(2,2)))\n",
    "'''# STEP--3 FLattening'''\n",
    "classifier.add(Flatten())\n",
    "'''# STEP--4 Fully Connected Neural Network'''\n",
    "classifier.add(Dense(64,activation='relu'))\n",
    "classifier.add(Dense(OutputNeurons,activation='softmax'))\n",
    "'''# Compiling the CNN'''\n",
    "classifier.compile(loss='categorical_crossentropy',optimizer='adam',metrics=['accuracy'])"
   ]
  },
  {
   "cell_type": "markdown",
   "metadata": {},
   "source": [
    "Fitting the model"
   ]
  },
  {
   "cell_type": "code",
   "execution_count": 5,
   "metadata": {
    "scrolled": true
   },
   "outputs": [
    {
     "name": "stdout",
     "output_type": "stream",
     "text": [
      "WARNING:tensorflow:From <ipython-input-5-8cb5a0bd6242>:5: Model.fit_generator (from tensorflow.python.keras.engine.training) is deprecated and will be removed in a future version.\n",
      "Instructions for updating:\n",
      "Please use Model.fit, which supports generators.\n",
      "Epoch 1/10\n",
      "30/30 [==============================] - 140s 5s/step - loss: 0.5590 - accuracy: 0.7553 - val_loss: 0.3666 - val_accuracy: 0.8280\n",
      "Epoch 2/10\n",
      "30/30 [==============================] - 117s 4s/step - loss: 0.2747 - accuracy: 0.8840 - val_loss: 0.2609 - val_accuracy: 0.8930\n",
      "Epoch 3/10\n",
      "30/30 [==============================] - 99s 3s/step - loss: 0.2071 - accuracy: 0.9180 - val_loss: 0.2279 - val_accuracy: 0.9020\n",
      "Epoch 4/10\n",
      "30/30 [==============================] - 90s 3s/step - loss: 0.2057 - accuracy: 0.9133 - val_loss: 0.1631 - val_accuracy: 0.9320\n",
      "Epoch 5/10\n",
      "30/30 [==============================] - 87s 3s/step - loss: 0.1854 - accuracy: 0.9243 - val_loss: 0.2034 - val_accuracy: 0.9060\n",
      "Epoch 6/10\n",
      "30/30 [==============================] - 86s 3s/step - loss: 0.1611 - accuracy: 0.9324 - val_loss: 0.1494 - val_accuracy: 0.9380\n",
      "Epoch 7/10\n",
      "30/30 [==============================] - 84s 3s/step - loss: 0.1686 - accuracy: 0.9280 - val_loss: 0.1340 - val_accuracy: 0.9520\n",
      "Epoch 8/10\n",
      "30/30 [==============================] - 83s 3s/step - loss: 0.1566 - accuracy: 0.9390 - val_loss: 0.1566 - val_accuracy: 0.9410\n",
      "Epoch 9/10\n",
      "30/30 [==============================] - 88s 3s/step - loss: 0.1471 - accuracy: 0.9414 - val_loss: 0.1841 - val_accuracy: 0.9190\n",
      "Epoch 10/10\n",
      "30/30 [==============================] - 87s 3s/step - loss: 0.1429 - accuracy: 0.9403 - val_loss: 0.1483 - val_accuracy: 0.9420\n",
      "Time Taken 17\n"
     ]
    }
   ],
   "source": [
    "# Measuring the time taken by the model to train\n",
    "import time\n",
    "Start_time=time.time()\n",
    "classifier.fit_generator(Training_set, steps_per_epoch=30, epochs=10,\n",
    "                        validation_data=Test_set, validation_steps=10)\n",
    "\n",
    "\n",
    "End_time=time.time()\n",
    "\n",
    "print('Time Taken',  round((End_time-Start_time)/60))"
   ]
  },
  {
   "cell_type": "markdown",
   "metadata": {},
   "source": [
    "Saving the model"
   ]
  },
  {
   "cell_type": "code",
   "execution_count": 6,
   "metadata": {},
   "outputs": [
    {
     "name": "stdout",
     "output_type": "stream",
     "text": [
      "WARNING:tensorflow:From C:\\Users\\Goku\\anaconda3\\lib\\site-packages\\tensorflow\\python\\ops\\resource_variable_ops.py:1817: calling BaseResourceVariable.__init__ (from tensorflow.python.ops.resource_variable_ops) with constraint is deprecated and will be removed in a future version.\n",
      "Instructions for updating:\n",
      "If using Keras pass *_constraint arguments to layers.\n",
      "INFO:tensorflow:Assets written to: D:\\DS\\Python\\CNN assignment\\chest_xray\\classifier1.pkl\\assets\n"
     ]
    }
   ],
   "source": [
    "classifier.save(\"D:\\\\DS\\\\Python\\\\CNN assignment\\\\chest_xray\\\\classifier1.pkl\")"
   ]
  },
  {
   "cell_type": "markdown",
   "metadata": {},
   "source": [
    "Testing the model on a different face"
   ]
  },
  {
   "cell_type": "code",
   "execution_count": 7,
   "metadata": {},
   "outputs": [
    {
     "name": "stdout",
     "output_type": "stream",
     "text": [
      "########################################\n",
      "Prediction is:  PNEUMONIA\n"
     ]
    }
   ],
   "source": [
    "'''########################## Making single predictions ############################'''\n",
    "import numpy as np\n",
    "from keras.preprocessing import image\n",
    "\n",
    "test_image='D:\\\\DS\\\\Python\\\\CNN assignment\\\\chest_xray\\\\val\\\\PNEUMONIA\\\\person1946_bacteria_4874.jpeg'\n",
    "TestImage=image.load_img(test_image,target_size=(64,64))\n",
    "TestImage=image.img_to_array(TestImage)\n",
    "\n",
    "TestImage=np.expand_dims(TestImage, axis=0)\n",
    "\n",
    "result=classifier.predict(TestImage,verbose=0)\n",
    "\n",
    "print('####'*10)\n",
    "print('Prediction is: ',Resultmap1[np.argmax(result)])"
   ]
  },
  {
   "cell_type": "markdown",
   "metadata": {},
   "source": [
    "The Model has accurately predicted with the image of X-Ray whether the person has Pneumonia or Not."
   ]
  }
 ],
 "metadata": {
  "kernelspec": {
   "display_name": "Python 3",
   "language": "python",
   "name": "python3"
  },
  "language_info": {
   "codemirror_mode": {
    "name": "ipython",
    "version": 3
   },
   "file_extension": ".py",
   "mimetype": "text/x-python",
   "name": "python",
   "nbconvert_exporter": "python",
   "pygments_lexer": "ipython3",
   "version": "3.7.6"
  }
 },
 "nbformat": 4,
 "nbformat_minor": 4
}

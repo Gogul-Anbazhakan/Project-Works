{
 "cells": [
  {
   "cell_type": "markdown",
   "metadata": {},
   "source": [
    "Reading the Image "
   ]
  },
  {
   "cell_type": "code",
   "execution_count": 15,
   "metadata": {},
   "outputs": [
    {
     "name": "stdout",
     "output_type": "stream",
     "text": [
      "Found 5216 images belonging to 2 classes.\n",
      "Found 5216 images belonging to 2 classes.\n"
     ]
    },
    {
     "data": {
      "text/plain": [
       "{'NORMAL': 0, 'PNEUMONIA': 1}"
      ]
     },
     "execution_count": 15,
     "metadata": {},
     "output_type": "execute_result"
    }
   ],
   "source": [
    "TrainingimagePath='D:\\\\DS\\\\Python\\\\CNN assignment\\\\chest_xray\\\\train'\n",
    "Testingimagepath= 'D:\\\\DS\\\\Python\\\\CNN assignment\\\\chest_xray\\\\test'\n",
    "\n",
    "from keras.preprocessing.image import ImageDataGenerator\n",
    "\n",
    "train_datagen= ImageDataGenerator(\n",
    "                rescale=1./255,horizontal_flip=True,\n",
    "                  zoom_range=0.1,shear_range=0.1)\n",
    "\n",
    "test_datagen= ImageDataGenerator(\n",
    "                rescale=1./255)\n",
    "\n",
    "training_set= train_datagen.flow_from_directory(TrainingimagePath, \n",
    "                                               target_size=(64,64),\n",
    "                                            batch_size=100,\n",
    "                                                class_mode='categorical')\n",
    "\n",
    "\n",
    "test_set= test_datagen.flow_from_directory(TrainingimagePath, \n",
    "                                               target_size=(64,64),\n",
    "                                            batch_size=50,\n",
    "                                                class_mode='categorical')\n",
    "\n",
    "test_set.class_indices"
   ]
  },
  {
   "cell_type": "markdown",
   "metadata": {},
   "source": [
    "Creating the Categories"
   ]
  },
  {
   "cell_type": "code",
   "execution_count": 16,
   "metadata": {},
   "outputs": [
    {
     "name": "stdout",
     "output_type": "stream",
     "text": [
      "Mapping X-ray and its Type : {0: 'NORMAL', 1: 'PNEUMONIA'}\n",
      "\n",
      " No.of. neurons: 2\n"
     ]
    }
   ],
   "source": [
    "Trainclasses=training_set.class_indices\n",
    "\n",
    "Resultmap={}\n",
    "for facevalue, facename in zip(Trainclasses.values() , Trainclasses.keys()):\n",
    "    Resultmap[facevalue]=facename\n",
    "    \n",
    "import pickle \n",
    "with open('D:\\\\DS\\\\Python\\\\CNN assignment\\\\chest_xray\\\\Resultmap.pkl', 'wb') as f:\n",
    "    pickle.dump(Resultmap, f, pickle.HIGHEST_PROTOCOL)\n",
    "    \n",
    "print('Mapping X-ray and its Type :', Resultmap)\n",
    "\n",
    "Outputneurons=len(Resultmap)\n",
    "print('\\n No.of. neurons:', Outputneurons)"
   ]
  },
  {
   "cell_type": "code",
   "execution_count": null,
   "metadata": {},
   "outputs": [],
   "source": [
    "CNN model"
   ]
  },
  {
   "cell_type": "code",
   "execution_count": 17,
   "metadata": {},
   "outputs": [],
   "source": [
    "from keras.models import Sequential\n",
    "from keras.layers import Convolution2D\n",
    "from keras.layers import MaxPool2D\n",
    "from keras.layers import Flatten\n",
    "from keras.layers import Dense\n",
    "\n",
    "classifier= Sequential()\n",
    "\n",
    "classifier.add(Convolution2D(32, kernel_size=(5,5), strides=(1,1), input_shape=(64,64,3), activation='relu'))\n",
    "classifier.add(MaxPool2D(pool_size=(2,2)))\n",
    "#adding another layer for accuracy\n",
    "classifier.add(Convolution2D(32, kernel_size=(5,5), strides=(1,1), activation='relu'))\n",
    "classifier.add(MaxPool2D(pool_size=(2,2)))\n",
    "\n",
    "classifier.add(Flatten())\n",
    "classifier.add(Dense(64, activation='relu'))\n",
    "\n",
    "classifier.add(Dense(Outputneurons, activation='softmax'))\n",
    "\n",
    "classifier.compile(loss='categorical_crossentropy', optimizer='adam', metrics=['accuracy'])\n"
   ]
  },
  {
   "cell_type": "markdown",
   "metadata": {},
   "source": [
    "Fitting Model"
   ]
  },
  {
   "cell_type": "code",
   "execution_count": 18,
   "metadata": {},
   "outputs": [
    {
     "name": "stdout",
     "output_type": "stream",
     "text": [
      "WARNING:tensorflow:From <ipython-input-18-12066e1af0bb>:5: Model.fit_generator (from tensorflow.python.keras.engine.training) is deprecated and will be removed in a future version.\n",
      "Instructions for updating:\n",
      "Please use Model.fit, which supports generators.\n",
      "Epoch 1/10\n",
      "25/25 [==============================] - 59s 2s/step - loss: 0.5925 - accuracy: 0.7148 - val_loss: 0.5300 - val_accuracy: 0.8160\n",
      "Epoch 2/10\n",
      "25/25 [==============================] - 59s 2s/step - loss: 0.4487 - accuracy: 0.8064 - val_loss: 0.3303 - val_accuracy: 0.9060\n",
      "Epoch 3/10\n",
      "25/25 [==============================] - 59s 2s/step - loss: 0.2792 - accuracy: 0.8840 - val_loss: 0.2291 - val_accuracy: 0.9120\n",
      "Epoch 4/10\n",
      "25/25 [==============================] - 59s 2s/step - loss: 0.2300 - accuracy: 0.9036 - val_loss: 0.1934 - val_accuracy: 0.9380\n",
      "Epoch 5/10\n",
      "25/25 [==============================] - 58s 2s/step - loss: 0.2047 - accuracy: 0.9212 - val_loss: 0.1807 - val_accuracy: 0.9360\n",
      "Epoch 6/10\n",
      "25/25 [==============================] - 56s 2s/step - loss: 0.1789 - accuracy: 0.9263 - val_loss: 0.1779 - val_accuracy: 0.9300\n",
      "Epoch 7/10\n",
      "25/25 [==============================] - 57s 2s/step - loss: 0.1611 - accuracy: 0.9346 - val_loss: 0.1380 - val_accuracy: 0.9500\n",
      "Epoch 8/10\n",
      "25/25 [==============================] - 57s 2s/step - loss: 0.1703 - accuracy: 0.9305 - val_loss: 0.0874 - val_accuracy: 0.9660\n",
      "Epoch 9/10\n",
      "25/25 [==============================] - 65s 3s/step - loss: 0.1695 - accuracy: 0.9317 - val_loss: 0.2015 - val_accuracy: 0.9140\n",
      "Epoch 10/10\n",
      "25/25 [==============================] - 63s 3s/step - loss: 0.1709 - accuracy: 0.9300 - val_loss: 0.1522 - val_accuracy: 0.9300\n"
     ]
    },
    {
     "ename": "NameError",
     "evalue": "name 'EndTime' is not defined",
     "output_type": "error",
     "traceback": [
      "\u001b[1;31m---------------------------------------------------------------------------\u001b[0m",
      "\u001b[1;31mNameError\u001b[0m                                 Traceback (most recent call last)",
      "\u001b[1;32m<ipython-input-18-12066e1af0bb>\u001b[0m in \u001b[0;36m<module>\u001b[1;34m\u001b[0m\n\u001b[0;32m      6\u001b[0m \u001b[1;33m\u001b[0m\u001b[0m\n\u001b[0;32m      7\u001b[0m \u001b[0mEndtime\u001b[0m\u001b[1;33m=\u001b[0m\u001b[0mtime\u001b[0m\u001b[1;33m.\u001b[0m\u001b[0mtime\u001b[0m\u001b[1;33m(\u001b[0m\u001b[1;33m)\u001b[0m\u001b[1;33m\u001b[0m\u001b[1;33m\u001b[0m\u001b[0m\n\u001b[1;32m----> 8\u001b[1;33m \u001b[0mprint\u001b[0m\u001b[1;33m(\u001b[0m\u001b[1;34m\"############### Total Time Taken: \"\u001b[0m\u001b[1;33m,\u001b[0m \u001b[0mround\u001b[0m\u001b[1;33m(\u001b[0m\u001b[1;33m(\u001b[0m\u001b[0mEndTime\u001b[0m\u001b[1;33m-\u001b[0m\u001b[0mStartTime\u001b[0m\u001b[1;33m)\u001b[0m\u001b[1;33m/\u001b[0m\u001b[1;36m60\u001b[0m\u001b[1;33m)\u001b[0m\u001b[1;33m,\u001b[0m \u001b[1;34m'Minutes #############'\u001b[0m\u001b[1;33m)\u001b[0m\u001b[1;33m\u001b[0m\u001b[1;33m\u001b[0m\u001b[0m\n\u001b[0m",
      "\u001b[1;31mNameError\u001b[0m: name 'EndTime' is not defined"
     ]
    }
   ],
   "source": [
    "import time\n",
    "classifier.fit_generator(training_set, steps_per_epoch=25,epochs=10, \n",
    "                        validation_data=test_set,validation_steps=10)"
   ]
  },
  {
   "cell_type": "code",
   "execution_count": 19,
   "metadata": {},
   "outputs": [
    {
     "name": "stdout",
     "output_type": "stream",
     "text": [
      "WARNING:tensorflow:From C:\\Users\\Goku\\anaconda3\\lib\\site-packages\\tensorflow\\python\\ops\\resource_variable_ops.py:1817: calling BaseResourceVariable.__init__ (from tensorflow.python.ops.resource_variable_ops) with constraint is deprecated and will be removed in a future version.\n",
      "Instructions for updating:\n",
      "If using Keras pass *_constraint arguments to layers.\n",
      "INFO:tensorflow:Assets written to: D:\\DS\\Python\\CNN assignment\\chest_xray\\classifier.pkl\\assets\n"
     ]
    }
   ],
   "source": [
    "classifier.save('D:\\\\DS\\\\Python\\\\CNN assignment\\\\chest_xray\\\\classifier.pkl')"
   ]
  },
  {
   "cell_type": "markdown",
   "metadata": {},
   "source": [
    "Testing"
   ]
  },
  {
   "cell_type": "code",
   "execution_count": 27,
   "metadata": {},
   "outputs": [
    {
     "name": "stdout",
     "output_type": "stream",
     "text": [
      "########################################\n",
      "Prediction is:  NORMAL\n"
     ]
    }
   ],
   "source": [
    "import numpy as np\n",
    "from keras.preprocessing import image\n",
    "\n",
    "testImage='D:\\\\DS\\\\Python\\\\CNN assignment\\\\NORMAL2-IM-1316-0001.jpeg'\n",
    "test_image=image.load_img(testImage,target_size=(64, 64))\n",
    "test_image=image.img_to_array(test_image)\n",
    "\n",
    "test_image=np.expand_dims(test_image,axis=0)\n",
    "result=classifier.predict(test_image,verbose=0)\n",
    "print('####'*10)\n",
    "print('Prediction is: ',Resultmap[np.argmax(result)])"
   ]
  },
  {
   "cell_type": "code",
   "execution_count": 32,
   "metadata": {},
   "outputs": [
    {
     "name": "stdout",
     "output_type": "stream",
     "text": [
      "########################################\n",
      "Prediction is:  PNEUMONIA\n"
     ]
    }
   ],
   "source": [
    "import numpy as np\n",
    "from keras.preprocessing import image\n",
    "\n",
    "testImage='D:\\\\DS\\\\Python\\\\CNN assignment\\\\person1946_bacteria_4874.jpeg'\n",
    "test_image=image.load_img(testImage,target_size=(64, 64))\n",
    "test_image=image.img_to_array(test_image)\n",
    "\n",
    "test_image=np.expand_dims(test_image,axis=0)\n",
    "result=classifier.predict(test_image,verbose=0)\n",
    "print('####'*10)\n",
    "print('Prediction is: ',Resultmap[np.argmax(result)])"
   ]
  },
  {
   "cell_type": "code",
   "execution_count": null,
   "metadata": {},
   "outputs": [],
   "source": []
  },
  {
   "cell_type": "code",
   "execution_count": null,
   "metadata": {},
   "outputs": [],
   "source": []
  },
  {
   "cell_type": "code",
   "execution_count": null,
   "metadata": {},
   "outputs": [],
   "source": []
  },
  {
   "cell_type": "code",
   "execution_count": null,
   "metadata": {},
   "outputs": [],
   "source": []
  },
  {
   "cell_type": "code",
   "execution_count": null,
   "metadata": {},
   "outputs": [],
   "source": []
  },
  {
   "cell_type": "code",
   "execution_count": null,
   "metadata": {},
   "outputs": [],
   "source": []
  },
  {
   "cell_type": "code",
   "execution_count": null,
   "metadata": {},
   "outputs": [],
   "source": []
  },
  {
   "cell_type": "code",
   "execution_count": null,
   "metadata": {},
   "outputs": [],
   "source": []
  },
  {
   "cell_type": "code",
   "execution_count": null,
   "metadata": {},
   "outputs": [],
   "source": []
  },
  {
   "cell_type": "code",
   "execution_count": null,
   "metadata": {},
   "outputs": [],
   "source": []
  },
  {
   "cell_type": "code",
   "execution_count": null,
   "metadata": {},
   "outputs": [],
   "source": []
  },
  {
   "cell_type": "code",
   "execution_count": null,
   "metadata": {},
   "outputs": [],
   "source": []
  },
  {
   "cell_type": "code",
   "execution_count": null,
   "metadata": {},
   "outputs": [],
   "source": []
  },
  {
   "cell_type": "code",
   "execution_count": null,
   "metadata": {},
   "outputs": [],
   "source": []
  },
  {
   "cell_type": "code",
   "execution_count": null,
   "metadata": {},
   "outputs": [],
   "source": []
  }
 ],
 "metadata": {
  "kernelspec": {
   "display_name": "Python 3",
   "language": "python",
   "name": "python3"
  },
  "language_info": {
   "codemirror_mode": {
    "name": "ipython",
    "version": 3
   },
   "file_extension": ".py",
   "mimetype": "text/x-python",
   "name": "python",
   "nbconvert_exporter": "python",
   "pygments_lexer": "ipython3",
   "version": "3.7.6"
  }
 },
 "nbformat": 4,
 "nbformat_minor": 4
}
